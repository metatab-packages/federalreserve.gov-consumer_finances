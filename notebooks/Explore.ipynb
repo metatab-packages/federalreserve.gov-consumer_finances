{
 "cells": [
  {
   "cell_type": "code",
   "execution_count": 1,
   "metadata": {},
   "outputs": [],
   "source": [
    "import seaborn as sns\n",
    "import metapack as mp\n",
    "import pandas as pd\n",
    "import numpy as np\n",
    "import matplotlib.pyplot as plt\n",
    "from IPython.display import display \n",
    "\n",
    "%matplotlib inline\n",
    "sns.set_context('notebook')\n",
    "mp.jupyter.init()\n"
   ]
  },
  {
   "cell_type": "code",
   "execution_count": 2,
   "metadata": {},
   "outputs": [
    {
     "data": {
      "text/html": [
       "<h1>Survey of Consumer Finances, Inheritance Extract</h1>\n",
       "<p><code>federalreserve.gov-consumer_finances-inheritance-1.1.9</code> Last Update: 2020-07-30T18:04:07</p>\n",
       "<p><em>An extract of data from the SCF, both the raw data and the extract fie, focused on income, network and inheritance.</em></p>\n",
       "<h2>Documentation Links</h2>\n",
       "<ul>\n",
       "<li><a href=\"https://www.federalreserve.gov/econres/files/codebk2016.txt\">Codebook</a> </li>\n",
       "<li><a href=\"https://www.federalreserve.gov/econres/scfindex.htm\">Homepage</a> </li>\n",
       "</ul>\n",
       "<h2>Contacts</h2>\n",
       "<ul>\n",
       "<li><strong>Wrangler</strong> <a href=\"mailto:eric@civicknowledge.com\">Eric Busboom</a>, <a href=\"http://civicknowledge.com\">Civic Knowledge</a></li>\n",
       "</ul>\n",
       "<h2>Resources</h2>\n",
       "<ul>\n",
       "<li><strong> <a href=\"data/scf_inherit.csv\">scf_inherit</a></strong>. Survey of Consumer Finances, inheritance and network extract.</li>\n",
       "</ul>\n",
       "<h2>References</h2>\n",
       "<p><ul><li> <strong><a href=\"https://www.federalreserve.gov/econres/files/scf2016s.zip#p16i6.dta\">scf_public</a></strong>. Survey of consumer finances, full public dataset</li><li> <strong><a href=\"https://www.federalreserve.gov/econres/files/scfp2016s.zip#rscfp2016.dta\">scf_extract</a></strong>. Survey of consumer finances, public extract</li><li> <strong><a href=\"https://www.federalreserve.gov/econres/files/scf2016rw1s.zip#p16_rw1.dta\">scf_weights</a></strong>. Survey of consumer finances, replicate weights</li><ul></p>"
      ],
      "text/plain": [
       "# Survey of Consumer Finances, Inheritance Extract\n",
       "`federalreserve.gov-consumer_finances-inheritance-1.1.9` Last Update: 2020-07-30T18:04:07\n",
       "\n",
       "_An extract of data from the SCF, both the raw data and the extract fie, focused on income, network and inheritance._\n",
       "\n",
       "\n",
       "## Documentation Links\n",
       "\n",
       "* [Codebook](https://www.federalreserve.gov/econres/files/codebk2016.txt) \n",
       "* [Homepage](https://www.federalreserve.gov/econres/scfindex.htm) \n",
       "\n",
       " \n",
       "\n",
       "## Contacts\n",
       "\n",
       "* **Wrangler** [Eric Busboom](mailto:eric@civicknowledge.com), [Civic Knowledge](http://civicknowledge.com)\n",
       "\n",
       "## Resources\n",
       "\n",
       "* ** [scf_inherit](data/scf_inherit.csv)**. Survey of Consumer Finances, inheritance and network extract.\n",
       "\n",
       "## References\n",
       "<ul><li> <strong><a href=\"https://www.federalreserve.gov/econres/files/scf2016s.zip#p16i6.dta\">scf_public</a></strong>. Survey of consumer finances, full public dataset</li><li> <strong><a href=\"https://www.federalreserve.gov/econres/files/scfp2016s.zip#rscfp2016.dta\">scf_extract</a></strong>. Survey of consumer finances, public extract</li><li> <strong><a href=\"https://www.federalreserve.gov/econres/files/scf2016rw1s.zip#p16_rw1.dta\">scf_weights</a></strong>. Survey of consumer finances, replicate weights</li><ul>\n"
      ]
     },
     "execution_count": 2,
     "metadata": {},
     "output_type": "execute_result"
    }
   ],
   "source": [
    "pkg = mp.jupyter.open_package()\n",
    "#pkg = mp.jupyter.open_source_package()\n",
    "pkg"
   ]
  },
  {
   "cell_type": "code",
   "execution_count": 3,
   "metadata": {},
   "outputs": [],
   "source": [
    "df = pkg.resource('scf_inherit').dataframe()"
   ]
  },
  {
   "cell_type": "code",
   "execution_count": 6,
   "metadata": {},
   "outputs": [
    {
     "data": {
      "text/plain": [
       "white    0.717061\n",
       "black    0.133707\n",
       "hisp     0.097919\n",
       "other    0.051312\n",
       "Name: race, dtype: float64"
      ]
     },
     "execution_count": 6,
     "metadata": {},
     "output_type": "execute_result"
    }
   ],
   "source": [
    "df.race.value_counts()/len(df)"
   ]
  },
  {
   "cell_type": "code",
   "execution_count": null,
   "metadata": {},
   "outputs": [],
   "source": [
    "df.race_2.value_counts()"
   ]
  }
 ],
 "metadata": {
  "kernelspec": {
   "display_name": "Python 3",
   "language": "python",
   "name": "python3"
  },
  "language_info": {
   "codemirror_mode": {
    "name": "ipython",
    "version": 3
   },
   "file_extension": ".py",
   "mimetype": "text/x-python",
   "name": "python",
   "nbconvert_exporter": "python",
   "pygments_lexer": "ipython3",
   "version": "3.7.6"
  }
 },
 "nbformat": 4,
 "nbformat_minor": 4
}
